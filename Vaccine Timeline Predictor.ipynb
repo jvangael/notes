{
 "cells": [
  {
   "cell_type": "markdown",
   "metadata": {},
   "source": [
    "# UK Vaccine Timeline Estimator"
   ]
  },
  {
   "cell_type": "code",
   "execution_count": 75,
   "metadata": {},
   "outputs": [],
   "source": [
    "import datetime\n",
    "\n",
    "import numpy as np\n",
    "import pandas as pd"
   ]
  },
  {
   "cell_type": "code",
   "execution_count": 76,
   "metadata": {},
   "outputs": [],
   "source": [
    "# Daily Vaccination speed from https://ourworldindata.org/covid-vaccinations\n",
    "vaccinations_per_day = 43346\n",
    "vaccinations_done = 944539\n",
    "vaccinations_data_date = datetime.datetime(2020, 12, 27)\n",
    "fraction_wanting_vaccine = 0.7\n",
    "doses_per_person = 2"
   ]
  },
  {
   "cell_type": "code",
   "execution_count": 77,
   "metadata": {},
   "outputs": [],
   "source": [
    "# Source https://www.populationpyramid.net/united-kingdom/2020/\n",
    "data = pd.read_csv('/Users/jvg/Downloads/uk-2020.csv')\n",
    "data = data.reindex(index=data.index[::-1])"
   ]
  },
  {
   "cell_type": "code",
   "execution_count": 78,
   "metadata": {},
   "outputs": [],
   "source": [
    "data[\"total\"] = data[\"M\"] + data[\"F\"]\n",
    "data['cum_total'] = data['total'].cumsum() * doses_per_person\n",
    "data['cum_todo'] = (data['cum_total'] - vaccinations_done).apply(lambda x: max(0, x))\n",
    "data['cum_wanting'] = data['cum_todo'] * fraction_wanting_vaccine\n",
    "data['days_until_vaccinated'] = np.ceil(data['cum_wanting'] / vaccinations_per_day)\n",
    "data['weeks_until_vaccinated'] = np.ceil(data['days_until_vaccinated'] / 7)"
   ]
  },
  {
   "cell_type": "code",
   "execution_count": 79,
   "metadata": {},
   "outputs": [
    {
     "name": "stdout",
     "output_type": "stream",
     "text": [
      "Based on retrieving vaccination data on Dec 27 2020 with:\n",
      "- the rolling 7-day average vaccination rate at 43346 vaccinations per day,\n",
      "- 70.0% of people wanting the vaccine,\n",
      "- 2 vaccination doses per person,\n",
      "\n",
      "\n",
      "Age group 100+ should be vaccinated by now.\n",
      "Age group 95-99 should be vaccinated by now.\n",
      "Age group 90-94 is expected to get vaccinated around Jan 03 2021\n",
      "Age group 85-89 is expected to get vaccinated around Feb 07 2021\n",
      "Age group 80-84 is expected to get vaccinated around Apr 04 2021\n",
      "Age group 75-79 is expected to get vaccinated around Jun 27 2021\n",
      "Age group 70-74 is expected to get vaccinated around Oct 10 2021\n",
      "Age group 65-69 is expected to get vaccinated around Jan 30 2022\n",
      "Age group 60-64 is expected to get vaccinated around Jun 05 2022\n",
      "Age group 55-59 is expected to get vaccinated around Oct 30 2022\n",
      "Age group 50-54 is expected to get vaccinated around Mar 26 2023\n",
      "Age group 45-49 is expected to get vaccinated around Aug 13 2023\n",
      "Age group 40-44 is expected to get vaccinated around Dec 31 2023\n",
      "Age group 35-39 is expected to get vaccinated around May 26 2024\n",
      "Age group 30-34 is expected to get vaccinated around Oct 27 2024\n",
      "Age group 25-29 is expected to get vaccinated around Mar 16 2025\n",
      "Age group 20-24 is expected to get vaccinated around Jul 27 2025\n",
      "Age group 15-19 is expected to get vaccinated around Nov 23 2025\n",
      "Age group 10-14 is expected to get vaccinated around Mar 29 2026\n",
      "Age group 5-9 is expected to get vaccinated around Aug 09 2026\n",
      "Age group 0-4 is expected to get vaccinated around Dec 20 2026\n"
     ]
    }
   ],
   "source": [
    "print('''Based on retrieving vaccination data on {} with:\n",
    "- the rolling 7-day average vaccination rate at {} vaccinations per day,\n",
    "- {}% of people wanting the vaccine,\n",
    "- {} vaccination doses per person,\n",
    "\\n'''.format(\n",
    "    vaccinations_data_date.strftime('%b %d %Y'),\n",
    "    vaccinations_per_day,\n",
    "    fraction_wanting_vaccine * 100,\n",
    "    doses_per_person\n",
    "))\n",
    "\n",
    "for index, row in data.iterrows():\n",
    "    expected_vaccination_date = vaccinations_data_date + datetime.timedelta(weeks=row['weeks_until_vaccinated'])\n",
    "    if row['weeks_until_vaccinated'] == 0:\n",
    "        print('Age group {} should be vaccinated by now.'.format(row['Age']))\n",
    "    else:\n",
    "        print('Age group {} is expected to get vaccinated around {}'.format(\n",
    "            row['Age'],\n",
    "            expected_vaccination_date.strftime('%b %d %Y')))"
   ]
  }
 ],
 "metadata": {
  "kernelspec": {
   "display_name": "Python 3",
   "language": "python",
   "name": "python3"
  },
  "language_info": {
   "codemirror_mode": {
    "name": "ipython",
    "version": 3
   },
   "file_extension": ".py",
   "mimetype": "text/x-python",
   "name": "python",
   "nbconvert_exporter": "python",
   "pygments_lexer": "ipython3",
   "version": "3.8.6"
  }
 },
 "nbformat": 4,
 "nbformat_minor": 4
}
